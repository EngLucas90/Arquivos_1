{
  "nbformat": 4,
  "nbformat_minor": 0,
  "metadata": {
    "colab": {
      "provenance": [],
      "collapsed_sections": [],
      "authorship_tag": "ABX9TyOt2+BFbxmyEjmIoPxFw+dF",
      "include_colab_link": true
    },
    "kernelspec": {
      "name": "python3",
      "display_name": "Python 3"
    },
    "language_info": {
      "name": "python"
    }
  },
  "cells": [
    {
      "cell_type": "markdown",
      "metadata": {
        "id": "view-in-github",
        "colab_type": "text"
      },
      "source": [
        "<a href=\"https://colab.research.google.com/github/EngLucas90/Arquivos_1/blob/main/Din%C3%A2mica_08_10_22.ipynb\" target=\"_parent\"><img src=\"https://colab.research.google.com/assets/colab-badge.svg\" alt=\"Open In Colab\"/></a>"
      ]
    },
    {
      "cell_type": "markdown",
      "source": [
        "Questão 1 Classiﬁque os tipos de dados das seguintes variáveis\n",
        "\n",
        "1.\tx = 5\n",
        "2.\tx = 5.0\n",
        "3.\tx = 5.5\n",
        "4.\tx = 'DNC'\n",
        "5.\tx = 1/2\n",
        "6.\tx = 0.5 * 2\n",
        "7.\tx = 2 ** 4\n",
        "8.\tx = 2+4\n",
        "9.\tx = 1000000000\n",
        "10.\tPeça para o usuário inputar um dado inteiro e conﬁra o tipo dele\n",
        "11.\tPeça para o usuário inputar um dado ﬂoat e conﬁra o tipo dele\n",
        "12.\tPeça para o usuário inputar um dado string e conﬁra o tipo dele\n",
        "13.\tPeça para o usuário inputar um dado sem deﬁnir o tipo e conﬁra o tipo dele\n"
      ],
      "metadata": {
        "id": "qFwsrPiqkT6A"
      }
    },
    {
      "cell_type": "code",
      "source": [
        "from IPython.core import debugger\n",
        "x = 5\n",
        "print(type(x))\n",
        "\n",
        "x = 5.0\n",
        "print(type(x))\n",
        "\n",
        "x = 5.5\n",
        "print(type(x))\n",
        "\n",
        "x = 'DNC'\n",
        "print(type(x))\n",
        "\n",
        "x = 1/2\n",
        "print(type(x))\n",
        "\n",
        "x = 0.5*2\n",
        "print(type(x))\n",
        "\n",
        "x =2**4\n",
        "print(type(x))\n",
        "\n",
        "x = 2 + 4\n",
        "print(type(x))\n",
        "\n",
        "x = 1000000000\n",
        "print(type(x))\n",
        "\n",
        "a = int(input('Insira um valor inteiro: '))\n",
        "print(type(a))\n",
        "\n",
        "b = float(input('Insira um valor float: '))\n",
        "print(type(b))\n",
        "\n",
        "c = input('Insira um string: ')\n",
        "print(type(c))\n",
        "\n",
        "d = input('Insira um dado: ')\n",
        "print(type(b))"
      ],
      "metadata": {
        "colab": {
          "base_uri": "https://localhost:8080/"
        },
        "id": "DBElG0Dpng2U",
        "outputId": "728934be-155f-4b22-b049-55f0bede5c42"
      },
      "execution_count": null,
      "outputs": [
        {
          "output_type": "stream",
          "name": "stdout",
          "text": [
            "<class 'int'>\n",
            "<class 'float'>\n",
            "<class 'float'>\n",
            "<class 'str'>\n",
            "<class 'float'>\n",
            "<class 'float'>\n",
            "<class 'int'>\n",
            "<class 'int'>\n",
            "<class 'int'>\n",
            "Insira um valor inteiro: 1\n",
            "<class 'str'>\n",
            "Insira um valor float: 2.5\n",
            "<class 'str'>\n",
            "Insira um string: kjhjk\n",
            "<class 'str'>\n",
            "Insira um dado: 45\n",
            "<class 'str'>\n"
          ]
        }
      ]
    },
    {
      "cell_type": "markdown",
      "source": [
        "Questão 2: Faça um print com duas linhas tracejadas acima e duas abaixo com  50 linhas em cada uma delas e no meio coloque \"DS06 - DNC\""
      ],
      "metadata": {
        "id": "vkPoUwBSrDpe"
      }
    },
    {
      "cell_type": "code",
      "execution_count": null,
      "metadata": {
        "colab": {
          "base_uri": "https://localhost:8080/"
        },
        "id": "0FdwZCgljl6N",
        "outputId": "7f3fa74e-2edd-41b2-f780-0f30857d1063"
      },
      "outputs": [
        {
          "output_type": "stream",
          "name": "stdout",
          "text": [
            "--------------------------------------------------\n",
            "--------------------------------------------------\n",
            "                     DS06-DNC                     \n",
            "--------------------------------------------------\n",
            "--------------------------------------------------\n"
          ]
        }
      ],
      "source": [
        "print(\"-\"*50)\n",
        "print(\"-\"*50)\n",
        "print(' '*20,'DS06-DNC',' '*20)\n",
        "print(\"-\"*50)\n",
        "print(\"-\"*50)"
      ]
    },
    {
      "cell_type": "markdown",
      "source": [
        "Questão 3. Você acabou de se formar na turma 05 de Formação em dados  e conseguiu um emprego de um cientista de dados jr. com um salário de  R$10.000,00 mensais. Você quer calcular quanto conseguirá guardar na  poupança ao ﬁnal do mês depois que pagar suas contas. Considere os  dados abaixo para fazer um print igual ao que está em anexo.\n",
        "salario_cientista_de_dados = 10000.00\n",
        "parcela_bmw = 2500.45\n",
        "parcela_apartamento = 3500.50\n",
        "veterinario_romeuzinho = 500.00\n",
        "luz = 100.80\n",
        "agua = 80.35\n",
        "condominio = 800.44\n",
        "gas = 150.65\n"
      ],
      "metadata": {
        "id": "caMkCniEsPh4"
      }
    },
    {
      "cell_type": "code",
      "source": [
        "salario_cientista_de_dados = 10000.00 \n",
        "parcela_bmw = 2500.45 \n",
        "parcela_apartamento = 3500.50 \n",
        "veterinario_romeuzinho = 500.00 \n",
        "luz = 100.80 \n",
        "agua = 80.35 \n",
        "condominio = 800.44 \n",
        "gas = 150.65\n",
        "\n",
        "print(\"*\"*70)\n",
        "print('Seu salário de cientista de dados é R$ {}'.format(salario_cientista_de_dados))\n",
        "\n",
        "\n",
        "print('Parcela da BMW é R$ {}'.format(parcela_bmw))\n",
        "print('Parcela do apartamento é R$ {}'.format(parcela_apartamento))\n",
        "print('Veterinario do romeuzinho é R$ {}'.format(veterinario_romeuzinho))\n",
        "print('Conta de luz é R$ {}'.format(luz))\n",
        "print('Conta de água é R$ {}'.format(agua))\n",
        "print('Conta do condomínio é R$ {}'.format(condominio))\n",
        "print('conta de gás é R$ {}'.format(gas))\n",
        "\n",
        "totalGastos = parcela_apartamento + parcela_bmw + veterinario_romeuzinho + luz + agua + condominio + gas\n",
        "\n",
        "disp = salario_cientista_de_dados - totalGastos \n",
        "print(\"*\"*70)\n",
        "\n",
        "print('O valor disponível para colocar na poupança é de: {:.2f}'.format(disp))\n",
        "\n",
        "\n"
      ],
      "metadata": {
        "colab": {
          "base_uri": "https://localhost:8080/"
        },
        "id": "prFSrXZvsO5q",
        "outputId": "587fdaf5-8275-46d7-e07a-e5f544e5e520"
      },
      "execution_count": null,
      "outputs": [
        {
          "output_type": "stream",
          "name": "stdout",
          "text": [
            "**********************************************************************\n",
            "Seu salário de cientista de dados é R$ 10000.0\n",
            "Parcela da BMW é R$ 2500.45\n",
            "Parcela do apartamento é R$ 3500.5\n",
            "Veterinario do romeuzinho é R$ 500.0\n",
            "Conta de luz é R$ 100.8\n",
            "Conta de água é R$ 80.35\n",
            "Conta do condomínio é R$ 800.44\n",
            "conta de gás é R$ 150.65\n",
            "**********************************************************************\n",
            "O valor disponível para colocar na poupança é de: 2366.81\n"
          ]
        }
      ]
    },
    {
      "cell_type": "markdown",
      "source": [
        "Questão 4: Você é um vendedor de cursos na DNC e os clientes entram em contato com  você para adquirir um de nossos seguintes cursos (Com os respectivos valores) e o  cliente pode escolher apenas 1,\n",
        "1.\tFormação_em_dados = 20000.00\n",
        "2.\tFormação_em_projetos = 15000.00\n",
        "3.\tFormação_em_marketing = 13000.00\n",
        "4.\tFormação_em_produto = 18000.00\n",
        "5.\tFormação_em_tecnologia = 19000.00\n",
        "\n",
        "\n",
        "Monte um código onde a primeira pergunta será \"Qual curso você quer escolher (1 =  Formação_em_dados, 2 = Formação_em_projetos, 3 = Formação_em_marketing, 4=  Formação_em_produto, 5 = Formação_em_tecnologia)?\"\n",
        "E de acordo com a escolha, ele entre em um if e emita a seguinte mensagem padrão  \"Você escolheu o curso Formação em XXXXX no valor de R$ valor que começará no  próximo mês\".\n",
        "Caso o usuário digite um valor diferente dos dispostos, emita a seguinte mensagem  \"Digite um valor correspondente a um curso de nossas formações \\n1-Formação em  dados \\n2-Formação em projetos\\n3-Formação em marketing\\n4-Formação em  produto\\n5-Formação em tecnologia\"\n"
      ],
      "metadata": {
        "id": "pqlUco8CwFv3"
      }
    },
    {
      "cell_type": "code",
      "source": [
        "Formação_em_dados = 20000.00\n",
        "Formação_em_projetos = 15000.00\n",
        "Formação_em_marketing = 13000.00\n",
        "Formação_em_produto = 18000.00\n",
        "Formação_em_tecnologia = 19000.00\n",
        "\n",
        "a = int(input((\" Qual curso você deseja?  \\n 1 = Formação_em_dados  \\n 2 = Formação_em_projetos  \\n 3 = Formação_em_marketing \\n 4= Formação_em_produto \\n 5 = Formação_em_tecnologia)?\")))\n",
        "\n",
        "if a == 1 or a ==2 or a == 3 or a == 4 or a == 5:\n",
        "  if a == 1:\n",
        "    print('Você escolheu o curso Formação em dados no valor de R$ {}, que começará no próximo mês'.format(Formação_em_dados)) \n",
        "  elif a == 2:\n",
        "    print('Você escolheu o curso Formação em projetos no valor de R$ {}, que começará no próximo mês'.format(Formação_em_projetos))\n",
        "  elif a == 3:\n",
        "    print('Você escolheu o curso Formação em marketing no valor de R$ {}, que começará no próximo mês'.format(Formação_em_marketing))\n",
        "  elif a == 4:\n",
        "    print('Você escolheu o curso Formação em produto no valor de R$ {}, que começará no próximo mês'.format(Formação_em_produto))\n",
        "  elif a == 5:\n",
        "    print('Você escolheu o curso Formação em tecnologia no valor de R$ {}, que começará no próximo mês'.format(Formação_em_tecnologia))      \n",
        "else:\n",
        "  print('  ') \n",
        "  print('Digite um valor correspondente a um curso de nossas formações \\n1-Formação em dados \\n2-Formação em projetos\\n3-Formação em marketing\\n4-Formação em produto\\n5-Formação em tecnologia\"')\n",
        "\n"
      ],
      "metadata": {
        "colab": {
          "base_uri": "https://localhost:8080/"
        },
        "id": "KKa21kXLv8cP",
        "outputId": "5036b3e6-ea15-41ac-b6b0-556ae258a93f"
      },
      "execution_count": null,
      "outputs": [
        {
          "output_type": "stream",
          "name": "stdout",
          "text": [
            " Qual curso você deseja?  \n",
            " 1 = Formação_em_dados  \n",
            " 2 = Formação_em_projetos  \n",
            " 3 = Formação_em_marketing \n",
            " 4= Formação_em_produto \n",
            " 5 = Formação_em_tecnologia)?6\n",
            "  \n",
            "Digite um valor correspondente a um curso de nossas formações \n",
            "1-Formação em dados \n",
            "2-Formação em projetos\n",
            "3-Formação em marketing\n",
            "4-Formação em produto\n",
            "5-Formação em tecnologia\"\n"
          ]
        }
      ]
    },
    {
      "cell_type": "markdown",
      "source": [
        "Questão 5. A DNC pretende faturar 2 milhões em 1 mês. Faça a leitura da quantidade de vendas de cada formação e calcule a receita total de vendas, a receita media geral e verifique se eles bateram a meta mensal utilizando as seguintes mensagens\n",
        "Se bateram: \"Parabéns!!! A DNC bateu a meta do mês\"\n",
        "Se não bateram: \"Esse mês não batemos a meta, porém mês que vem vamos vir mais forte pra recuperar!!!\"\n",
        "(Utilize as informações de preço do exercício acima)\n"
      ],
      "metadata": {
        "id": "5KZTAnRq1UC8"
      }
    },
    {
      "cell_type": "code",
      "source": [
        "qtdc1 = int(input('Informe a quantidade de cursos Formação em dados que foram vendidos: '))\n",
        "qtdc2 = int(input('Informe a quantidade de cursos Formação em projetos que foram vendidos: '))\n",
        "qtdc3 = int(input('Informe a quantidade de cursos Formação em marketing que foram vendidos: '))\n",
        "qtdc4 = int(input('Informe a quantidade de cursos Formação em produto que foram vendidos: '))\n",
        "qtdc5 = int(input('Informe a quantidade de cursos Formação em tecnologia que foram vendidos: '))\n",
        "print('  ')\n",
        "\n",
        "fatPret = 2000000\n",
        "\n",
        "\n",
        "fatReal = (qtdc1*Formação_em_dados) + (qtdc2*Formação_em_projetos) + (qtdc3*Formação_em_marketing) +  (qtdc4*Formação_em_produto) + (qtdc5*Formação_em_tecnologia)\n",
        "\n",
        "recMed = fatReal/5\n",
        "\n",
        "print('Nosso valor total arrecado foi de: {} '.format(fatReal))\n",
        "print('Nosso valor médio arrecado foi de: {} '.format(recMed))\n",
        "print(' ')\n",
        "if fatReal >= fatPret:\n",
        "  print(\"Parabéns!!! A DNC bateu a meta do mês\")\n",
        "else:\n",
        "  print(\"Esse mês não batemos a meta, porém mês que vem vamos vir mais forte pra recuperar!!!\")\n",
        "\n",
        "\n",
        "\n",
        "\n",
        "\n",
        "                                                                    \n"
      ],
      "metadata": {
        "colab": {
          "base_uri": "https://localhost:8080/"
        },
        "id": "N5cj84Jc1MO0",
        "outputId": "ad54aef4-a99e-43b0-e18f-f9d60f34d6d7"
      },
      "execution_count": null,
      "outputs": [
        {
          "output_type": "stream",
          "name": "stdout",
          "text": [
            "Informe a quantidade de cursos Formação em dados que foram vendidos: 1\n",
            "Informe a quantidade de cursos Formação em projetos que foram vendidos: 1\n",
            "Informe a quantidade de cursos Formação em marketing que foram vendidos: 1\n",
            "Informe a quantidade de cursos Formação em produto que foram vendidos: 1\n",
            "Informe a quantidade de cursos Formação em tecnologia que foram vendidos: 1\n",
            "  \n",
            "Nosso valor total arrecado foi de: 85000.0 \n",
            "Nosso valor médio arrecado foi de: 17000.0 \n",
            " \n",
            "Esse mês não batemos a meta, porém mês que vem vamos vir mais forte pra recuperar!!!\n"
          ]
        }
      ]
    },
    {
      "cell_type": "markdown",
      "source": [
        "Questão 6. O aluno da DNC precisa fazer um código que faça a somatória de uma  sequência de números um por um, informando no começo do código qual a posição a somatória  deve parar. Monte uma estrutura de repetição que resolva esse problema.\n",
        "\n",
        "Exemplo: Ele vai parar no numero 3, então vai somar 1+2+3\n"
      ],
      "metadata": {
        "id": "xAd_CWgB5Y7q"
      }
    },
    {
      "cell_type": "code",
      "source": [
        "a = int(input('informe o número limite para o somatório: '))\n",
        "\n",
        "passo = range(1,a+1)\n",
        "\n",
        "soma = 0\n",
        "\n",
        "for i in passo:\n",
        "  soma = soma + i\n",
        "  \n",
        "print(soma)\n",
        "\n",
        "\n",
        "\n",
        "\n",
        "\n"
      ],
      "metadata": {
        "colab": {
          "base_uri": "https://localhost:8080/"
        },
        "id": "rc6Oinvn5QTu",
        "outputId": "24215a61-6c48-4887-c0d0-1c9aca9a6a85"
      },
      "execution_count": null,
      "outputs": [
        {
          "output_type": "stream",
          "name": "stdout",
          "text": [
            "informe o número limite para o somatório: 5\n",
            "15\n"
          ]
        }
      ]
    },
    {
      "cell_type": "markdown",
      "source": [
        "Questão 7. O aluno da DNC está no spotify e percebeu que poderia criar um código  para demonstrar como o spotify troca de música. Faça uma estrutura de repetição que  quando digita-se 'p' o código emitirá uma mensagem \"Próxima música\" e qualquer  outra letra ou número o código emitirá uma mensagem \"Fechando o app\" \"Até a  próxima\""
      ],
      "metadata": {
        "id": "mSeRNIv7_XCt"
      }
    },
    {
      "cell_type": "code",
      "source": [
        "prox = (input('Pressione P para passar de música: '))\n",
        "prox = prox.upper()\n",
        "x == 'P'\n",
        "\n",
        "if prox == 'P':\n",
        "  print('proxima música')\n",
        "else:\n",
        "  print('Fechando o app - Até a próxima!')\n",
        "\n"
      ],
      "metadata": {
        "colab": {
          "base_uri": "https://localhost:8080/"
        },
        "id": "6rViAN_e_TK4",
        "outputId": "1755fb57-bdfb-4547-99d1-8e5295b119a7"
      },
      "execution_count": null,
      "outputs": [
        {
          "output_type": "stream",
          "name": "stdout",
          "text": [
            "Pressione P para passar de música: próxima\n",
            "Fechando o app - Até a próxima!\n"
          ]
        }
      ]
    },
    {
      "cell_type": "markdown",
      "source": [
        "Questão 8. O aluno da DNC quer criar um código para dar parabéns para 3 pessoas do  seu grupo de projeto, como reconhecimento de seu trabalho duro. Faça uma estrutura  de repetição onde seja informado 3 nomes e printado a seguinte mensagem \"Parabéns  por toda sua ajuda no projeto, você está sendo essencial para o resultado que estamos  atingindo, NOME DA PESSOA\""
      ],
      "metadata": {
        "id": "7OGTk4ssBeCN"
      }
    },
    {
      "cell_type": "code",
      "source": [
        "pessoas = [ 'Lucas', 'Roberto' , 'Danilo']\n",
        "\n",
        "\n",
        "\n",
        "passo = range(0,2+1)\n",
        "\n",
        "\n",
        "for i in passo:\n",
        "  print('Parabéns por toda sua ajuda no projeto, você está sendo essencial para o resultado que estamos atingindo, {}'.format(pessoas[i]))\n"
      ],
      "metadata": {
        "colab": {
          "base_uri": "https://localhost:8080/"
        },
        "id": "E7i460g6BdYE",
        "outputId": "ea2031f0-1d30-4ece-94d4-d6c64e35a632"
      },
      "execution_count": null,
      "outputs": [
        {
          "output_type": "stream",
          "name": "stdout",
          "text": [
            "Parabéns por toda sua ajuda no projeto, você está sendo essencial para o resultado que estamos atingindo, Lucas\n",
            "Parabéns por toda sua ajuda no projeto, você está sendo essencial para o resultado que estamos atingindo, Roberto\n",
            "Parabéns por toda sua ajuda no projeto, você está sendo essencial para o resultado que estamos atingindo, Danilo\n"
          ]
        }
      ]
    },
    {
      "cell_type": "markdown",
      "source": [
        "Questão 9. Um aluno da DNC tem uma certa quantidade de notas em seu cofrinho e  hoje ele decidiu quebrá-lo, com isso ele quer criar um programa que armazene todas as  notas e ao ﬁnal do processo ele quer saber o valor total e printar as notas que ele  possui na tela. Monte uma estrutura onde seja guardado os valores das notas e imprima  a soma delas ao ﬁnal. Utilize a estrutura de repetição while"
      ],
      "metadata": {
        "id": "oEeOVQW1DSW5"
      }
    },
    {
      "cell_type": "code",
      "source": [
        "continuar = 'sim'\n",
        "soma = 0\n",
        "\n",
        "while continuar == 'sim':\n",
        "  a = float(input('Qual o valor da nota: '))\n",
        "  soma = soma + a\n",
        "  continuar = input ('deseja continuar:  ')\n",
        "\n",
        "print(soma)\n"
      ],
      "metadata": {
        "id": "tk_oDL8-DN9k"
      },
      "execution_count": null,
      "outputs": []
    },
    {
      "cell_type": "markdown",
      "source": [
        "Questão 10. O aluno da DNC resolveu criar um dicionário com as informações dos 5  membros de seu grupo, ele precisa inserir o Nome, RID, Idade, Cidade e Cargo no time  de projeto. Crie um dicionário que satisfaça isso e print cada chave e valor de cada  integrante."
      ],
      "metadata": {
        "id": "JCxCXneGFit0"
      }
    },
    {
      "cell_type": "code",
      "source": [
        "pessoa = {\n",
        "         'Nome'  : 'Lucas',\n",
        "         'RID' :  44907, \n",
        "         'cidade': 'Curitiba',\n",
        "          \n",
        "         'nome1' : 'Marcos',\n",
        "         'RID1' :  44207, \n",
        "         'cidade1': 'São paulo',\n",
        "         'nome2' : 'Leandro',\n",
        "         'RID2' :  44307, \n",
        "         'cidade2': 'Rio de Janeiro'\n",
        "}\n",
        "# Acessando os valores:\n",
        "\n",
        "print(pessoa['nome'])\n",
        "print(pessoa['RID'])\n",
        "print(pessoa['cidade'])\n",
        "print(' ')\n",
        "print(pessoa['nome1'])\n",
        "print(pessoa['RID1'])\n",
        "print(pessoa['cidade1'])\n",
        "\n",
        "print(' ')\n",
        "print(pessoa['nome2'])\n",
        "print(pessoa['RID2'])\n",
        "print(pessoa['cidade2'])"
      ],
      "metadata": {
        "colab": {
          "base_uri": "https://localhost:8080/"
        },
        "id": "tH6FpHCSFgCq",
        "outputId": "99d2b3f0-1b63-4f92-9b7a-f5d4447a0040"
      },
      "execution_count": null,
      "outputs": [
        {
          "output_type": "stream",
          "name": "stdout",
          "text": [
            "Lucas\n",
            "44907\n",
            "Curitiba\n",
            " \n",
            "Marcos\n",
            "44207\n",
            "São paulo\n",
            " \n",
            "Leandro\n",
            "44307\n",
            "Rio de Janeiro\n"
          ]
        }
      ]
    }
  ]
}